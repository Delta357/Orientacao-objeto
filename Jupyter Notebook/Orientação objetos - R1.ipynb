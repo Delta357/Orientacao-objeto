{
 "cells": [
  {
   "cell_type": "code",
   "execution_count": null,
   "metadata": {},
   "outputs": [],
   "source": [
    "class Funcionario():\n",
    "    def __init__(self):\n",
    "        self.nome1 = \"Karla\"\n",
    "        self.nome2 = \"Julia\"\n",
    "        self.nome3 = \"José\"\n",
    "        self.nome4 = \"Andre\"\n",
    "        print(\"Nomes de funcionarios da empresa COSMO A.i\")\n",
    "    \n",
    "    def imprime(self):\n",
    "        print(\"Nomes 1 a 4\" % (self.nome1, nome2, nome3, nome4))\n",
    "        \n",
    "Funcionario1 = Funcionario()\n",
    "Funcionario1.nome1"
   ]
  },
  {
   "cell_type": "code",
   "execution_count": null,
   "metadata": {},
   "outputs": [],
   "source": [
    "Funcionario1.nome2"
   ]
  },
  {
   "cell_type": "code",
   "execution_count": null,
   "metadata": {},
   "outputs": [],
   "source": [
    "Funcionario1.nome3"
   ]
  },
  {
   "cell_type": "code",
   "execution_count": null,
   "metadata": {},
   "outputs": [],
   "source": [
    "Funcionario1.nome4"
   ]
  },
  {
   "cell_type": "code",
   "execution_count": null,
   "metadata": {},
   "outputs": [],
   "source": [
    "class Frutas():\n",
    "    def __init__(self):\n",
    "        self.nome1 = \"Uva\"\n",
    "        self.nome2 = \"Pera\"\n",
    "        self.nome3 = \"Mamão\"\n",
    "        self.nome4 = \"Kwi\"\n",
    "        print(\"Futas do mercado\")\n",
    "\n",
    "Frutas1 = Frutas()\n",
    "Frutas1.nome1"
   ]
  },
  {
   "cell_type": "code",
   "execution_count": null,
   "metadata": {},
   "outputs": [],
   "source": [
    "Frutas1.nome2"
   ]
  },
  {
   "cell_type": "code",
   "execution_count": null,
   "metadata": {},
   "outputs": [],
   "source": [
    "Frutas1.nome3"
   ]
  },
  {
   "cell_type": "code",
   "execution_count": null,
   "metadata": {},
   "outputs": [],
   "source": [
    "Frutas1.nome4"
   ]
  },
  {
   "cell_type": "code",
   "execution_count": null,
   "metadata": {},
   "outputs": [],
   "source": [
    "class funcionario:\n",
    "    def __init__(self):\n",
    "        self.nome = None\n",
    "        self.salario = 0\n",
    "    \n",
    "    def exibir_dados(self):\n",
    "        print(\"Nome do funcionario:\", self.nome)\n",
    "        print(\"Salario do funcionario:\", self.salario)\n",
    "        \n",
    "    def exibir(self):\n",
    "        print(\"\\n\")\n",
    "        n = input(\"Nome do funcionario:\")\n",
    "        s = int(input(\"Digite o salario:\"))\n",
    "        self.funcionario = n\n",
    "        self.salario = s\n",
    "        \n",
    "        if s > 1500:\n",
    "            print(\"Salario ok\")\n",
    "        else:\n",
    "            print(\"Salario não ok\")\n",
    "        \n",
    "dados_funcionario = funcionario()\n",
    "dados_funcionario.exibir()\n",
    "\n",
    "funcionario1 = funcionario()\n",
    "funcionario1.exibir()"
   ]
  },
  {
   "cell_type": "code",
   "execution_count": null,
   "metadata": {},
   "outputs": [],
   "source": []
  }
 ],
 "metadata": {
  "kernelspec": {
   "display_name": "Python 3",
   "language": "python",
   "name": "python3"
  },
  "language_info": {
   "codemirror_mode": {
    "name": "ipython",
    "version": 3
   },
   "file_extension": ".py",
   "mimetype": "text/x-python",
   "name": "python",
   "nbconvert_exporter": "python",
   "pygments_lexer": "ipython3",
   "version": "3.7.4"
  }
 },
 "nbformat": 4,
 "nbformat_minor": 4
}
