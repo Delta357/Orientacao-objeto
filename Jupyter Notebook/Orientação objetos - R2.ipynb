{
 "cells": [
  {
   "cell_type": "code",
   "execution_count": null,
   "metadata": {},
   "outputs": [],
   "source": [
    "class funcionario:\n",
    "    def __init__(self):\n",
    "        self.nome = None\n",
    "        self.salario = 0\n",
    "    \n",
    "    def exibir_dados(self):\n",
    "        print(\"Nome do funcionario:\", self.nome)\n",
    "        print(\"Salario do funcionario:\", self.salario)\n",
    "        \n",
    "    def exibir(self):\n",
    "        print(\"\\n\")\n",
    "        n = input(\"Nome do funcionario:\")\n",
    "        s = int(input(\"Digite o salario:\"))\n",
    "        self.funcionario = n\n",
    "        self.salario = s\n",
    "        \n",
    "        if s > 1500:\n",
    "            print(\"Salario ok\")\n",
    "        else:\n",
    "            print(\"Salario não ok\")\n",
    "        \n",
    "dados_funcionario = funcionario()\n",
    "dados_funcionario.exibir()\n",
    "\n",
    "funcionario1 = funcionario()\n",
    "funcionario1.exibir()"
   ]
  },
  {
   "cell_type": "code",
   "execution_count": null,
   "metadata": {},
   "outputs": [],
   "source": [
    "class Aluno:\n",
    "    def __init__(self, ra, nome):\n",
    "        self.ra = ra\n",
    "        self.nome = nome\n",
    "        self.lista_disciplinas = []\n",
    "\n",
    "    def adicionar_disciplina(self, disc):\n",
    "        self.lista_disciplinas.append(disc)\n",
    "\n",
    "    def exibir(self):\n",
    "        print(\"RA: \", self.ra)\n",
    "        print(\"Nome: \", self.nome)\n",
    "        print(\"Disciplinas: \", self.lista_disciplinas)\n",
    "\n",
    "\n",
    "aluno1 = Aluno(9999999, \"Paulo\")\n",
    "aluno1.adicionar_disciplina(\"Linguagem de Programação II\")\n",
    "aluno1.adicionar_disciplina(\"Banco de Dados\")\n",
    "aluno1.exibir()"
   ]
  },
  {
   "cell_type": "code",
   "execution_count": null,
   "metadata": {},
   "outputs": [],
   "source": [
    "class Livro:\n",
    "    # construtor recebe valores iniciais que serão atribuidos aos atributos\n",
    "    def __init__(self, titulo, autor, preco):\n",
    "        self.titulo = titulo\n",
    "        self.autor = autor\n",
    "        self.preco = preco\n",
    "\n",
    "    def exibir_dados(self):\n",
    "        print(\"Titulo: \", self.titulo)\n",
    "        print(\"Autor: \", self.autor)\n",
    "        print(\"Preço: \", self.preco)\n",
    "\n",
    "\n",
    "# cria objeto\n",
    "outro_livro = Livro(\"Titulo do Livro\", \"Nome do autor do livro\", 50.0)\n",
    "outro_livro.exibir_dados()\n",
    "\n",
    "# cria outro objeto\n",
    "livro1 = Livro(\"Titulo\", \"nome do autor\", 30)\n",
    "# modifica o preço\n",
    "livro1.preco = 29.90\n",
    "livro1.exibir_dados()"
   ]
  }
 ],
 "metadata": {
  "kernelspec": {
   "display_name": "Python 3",
   "language": "python",
   "name": "python3"
  },
  "language_info": {
   "codemirror_mode": {
    "name": "ipython",
    "version": 3
   },
   "file_extension": ".py",
   "mimetype": "text/x-python",
   "name": "python",
   "nbconvert_exporter": "python",
   "pygments_lexer": "ipython3",
   "version": "3.7.4"
  }
 },
 "nbformat": 4,
 "nbformat_minor": 4
}
